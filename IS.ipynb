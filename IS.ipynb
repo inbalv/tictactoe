{
  "cells": [
    {
      "cell_type": "markdown",
      "metadata": {
        "id": "view-in-github",
        "colab_type": "text"
      },
      "source": [
        "<a href=\"https://colab.research.google.com/github/inbalv/tictactoe/blob/master/IS.ipynb\" target=\"_parent\"><img src=\"https://colab.research.google.com/assets/colab-badge.svg\" alt=\"Open In Colab\"/></a>"
      ]
    },
    {
      "cell_type": "code",
      "execution_count": null,
      "metadata": {
        "collapsed": true,
        "id": "rJyhLxlFSmPW"
      },
      "outputs": [],
      "source": [
        "import os\n",
        "import pyspark\n",
        "from pyspark.ml import Pipeline\n",
        "from pyspark.ml.classification import *\n",
        "from pyspark.ml.feature import *\n",
        "from pyspark.sql import SparkSession\n",
        "import pyspark.sql.functions as F\n",
        "from pyspark.ml.feature import *\n",
        "from pyspark.sql.types import *\n",
        "from pyspark.ml.classification import LogisticRegression,RandomForestClassifier,GBTClassifier,DecisionTreeClassifier"
      ]
    },
    {
      "cell_type": "code",
      "execution_count": null,
      "metadata": {
        "id": "h8_DFDG8SmPY"
      },
      "outputs": [],
      "source": [
        "def create_spark_session(app_name='SparkApplication',master='local[*]'):\n",
        "    spark_session = SparkSession.builder \\\n",
        "        .appName(app_name) \\\n",
        "        .master(master) \\\n",
        "        .getOrCreate()\n",
        "\n",
        "    spark_session.sparkContext.setLogLevel('WARN')\n",
        "    return spark_session\n",
        "\n",
        "def set_spark_submit_args():\n",
        "    args,jars,packages = [],[],[]\n",
        "    args.append('--conf spark.driver.maxResultSize=16g')\n",
        "    args.append('--driver-memory 16g')\n",
        "    args.append('--executor-memory 16g')\n",
        "\n",
        "    args.append('pyspark-shell')\n",
        "    pyspark_submit_args = ' '.join(args)\n",
        "    print ('PYSPARK_SUBMIT_ARGS = ' + pyspark_submit_args)\n",
        "    os.environ['PYSPARK_SUBMIT_ARGS'] = pyspark_submit_args\n",
        "\n",
        "\n",
        "#set_spark_submit_args()\n",
        "spark = create_spark_session()"
      ]
    },
    {
      "cell_type": "code",
      "execution_count": null,
      "metadata": {
        "id": "9TLJ5NXXSmPY",
        "outputId": "de03edc1-12a5-4c66-ba5e-35e2d7a598ed"
      },
      "outputs": [
        {
          "name": "stdout",
          "output_type": "stream",
          "text": [
            "<bound method DataFrame.printSchema of DataFrame[id: string, feature_1: string, feature_2: string, feature_3: string, feature_4: string, feature_5: string, feature_6: string, feature_7: string, feature_8: string, feature_9: string, label: string]>\n",
            "<bound method DataFrame.printSchema of DataFrame[id: string, feature_10: string, feature_11: string, feature_12: string, feature_13: string, feature_14: string, feature_15: string, feature_16: string, feature_17: string, feature_18: string, feature_19: string, feature_20: string, feature_21: string, feature_23: string]>\n"
          ]
        },
        {
          "data": {
            "text/plain": [
              "DataFrame[id: string, feature_1: string, feature_2: string, feature_3: string, feature_4: string, feature_5: string, feature_6: string, feature_7: string, feature_8: string, feature_9: string, label: string, feature_10: string, feature_11: string, feature_12: string, feature_13: string, feature_14: string, feature_15: string, feature_16: string, feature_17: string, feature_18: string, feature_19: string, feature_20: string, feature_21: string, feature_23: string]"
            ]
          },
          "execution_count": 3,
          "metadata": {},
          "output_type": "execute_result"
        }
      ],
      "source": [
        "#read,join and sample from data\n",
        "x='C:/IS1'\n",
        "df1 = spark.read.parquet(x)\n",
        "x='C:/IS2'\n",
        "df2 = spark.read.parquet(x)\n",
        "print(df1.printSchema)\n",
        "print(df2.printSchema)\n",
        "\n",
        "df = df1.join(df2, on=['id']).drop(df2.id)\n",
        "#sc = df.sql_ctx.sparkSession.sparkContext\n",
        "df=df.sample(False,0.05,seed=42)\n",
        "df.cache()"
      ]
    },
    {
      "cell_type": "code",
      "execution_count": null,
      "metadata": {
        "id": "CQv_mdulSmPZ",
        "outputId": "48f71b03-9555-4e2c-c076-512853c470c6"
      },
      "outputs": [
        {
          "data": {
            "text/plain": [
              "'\\n#conclusion :\\n  \\nfeature_2-num\\nfeature_3-num\\nfeature_4-?\\nfeature_5-cat more than 100 values\\nfeature_6-cat more than 100 values\\nfeature_7- cat ~ 20 values\\nfeature_8-cat more than 100 values\\nfeature_9-cat 3 values\\nfeature_10-cat 7 values\\nfeature_11-cat 7 values\\nfeature_12-? has -1,  more than 100 values\\nfeature_13-cat  more than 100 values\\nfeature_14-cat  more than 100 values\\nfeature_15-cat  more than 50\\nfeature_16-cat  5 values\\nfeature_17-cat  cat more than 100 values\\nfeature_18-cat  cat 4 values\\nfeature_19-cat  cat 8 values\\nfeature_20-cat  ~20 values\\nfeature_21-cat  more than 100 values\\nfeature_23-cat  9 values\\n'"
            ]
          },
          "execution_count": 4,
          "metadata": {},
          "output_type": "execute_result"
        }
      ],
      "source": [
        "#check for distinct values (very slow) :\n",
        "'''\n",
        "from pyspark.sql import functions as F, DataFrame\n",
        "y=df1.columns\n",
        "print(y)\n",
        "for col in y:\n",
        "    if (col != 'id') and (col!='feature_1'):\n",
        "        print(df1.groupby(df1[col]).count().show(1000))\n",
        "\n",
        "\n",
        "'''\n",
        "'''\n",
        "#conclusion :\n",
        "\n",
        "feature_2-num\n",
        "feature_3-num\n",
        "feature_4-?\n",
        "feature_5-cat more than 100 values\n",
        "feature_6-cat more than 100 values\n",
        "feature_7- cat ~ 20 values\n",
        "feature_8-cat more than 100 values\n",
        "feature_9-cat 3 values\n",
        "feature_10-cat 7 values\n",
        "feature_11-cat 7 values\n",
        "feature_12-? has -1,  more than 100 values\n",
        "feature_13-cat  more than 100 values\n",
        "feature_14-cat  more than 100 values\n",
        "feature_15-cat  more than 50\n",
        "feature_16-cat  5 values\n",
        "feature_17-cat  cat more than 100 values\n",
        "feature_18-cat  cat 4 values\n",
        "feature_19-cat  cat 8 values\n",
        "feature_20-cat  ~20 values\n",
        "feature_21-cat  more than 100 values\n",
        "feature_23-cat  9 values\n",
        "'''\n"
      ]
    },
    {
      "cell_type": "code",
      "execution_count": null,
      "metadata": {
        "id": "GIf7U0MVSmPZ",
        "outputId": "19607f94-8f7d-4e36-9141-b64546998028"
      },
      "outputs": [
        {
          "data": {
            "image/png": "[encoded data removed]",
            "text/plain": [
              "<Figure size 432x288 with 1 Axes>"
            ]
          },
          "metadata": {},
          "output_type": "display_data"
        },
        {
          "data": {
            "image/png": "[encoded data removed]",
            "text/plain": [
              "<Figure size 432x288 with 1 Axes>"
            ]
          },
          "metadata": {},
          "output_type": "display_data"
        }
      ],
      "source": [
        "#cast numeric columns and plot it\n",
        "numeric_columns=['feature_2','feature_3']\n",
        "\n",
        "for col in numeric_columns:\n",
        "    df = df.withColumn(col,df[col].cast(DoubleType()))\n",
        "\n",
        "#plot numeric columns hists\n",
        "df.select(numeric_columns).describe().toPandas().transpose()\n",
        "\n",
        "df_pd = df.toPandas()\n",
        "%matplotlib inline\n",
        "import matplotlib.pyplot as plt\n",
        "\n",
        "for col in numeric_columns:\n",
        "    df_pd.hist(column=col)"
      ]
    },
    {
      "cell_type": "code",
      "execution_count": null,
      "metadata": {
        "id": "tJ1jedzHSmPZ",
        "outputId": "6b1ac87f-56b1-4557-eb1d-a696cbcf7fc7"
      },
      "outputs": [
        {
          "name": "stdout",
          "output_type": "stream",
          "text": [
            " Imbalance data: \n",
            "  #positive:  34258 #negative: 167398 #total 201656 #ratio 0.16988336573174118\n",
            " Imbalance data after undersampling: \n",
            "  #positive:  23980 #negative: 70228 #total 94208 #ratio 0.25454313858695654\n"
          ]
        }
      ],
      "source": [
        "#check for imbalance in all df\n",
        "df= df.withColumn('label',df['label'].cast(DoubleType()))\n",
        "numPositive = df.filter(F.col(\"label\") == 1).count()\n",
        "datasetSize = df.count()\n",
        "numNegative = datasetSize-numPositive\n",
        "print(' Imbalance data: \\n ','#positive: ',numPositive,'#negative:',numNegative,'#total',datasetSize,'#ratio',numPositive/datasetSize)\n",
        "\n",
        "#split train and test (unfortunatly did not have time to train for validation df)\n",
        "\n",
        "train, test = df.randomSplit([0.7, 0.3], seed = 2018)\n",
        "train.cache()\n",
        "test.cache()\n",
        "\n",
        "#Imbalanced data -underSampling for class zero  on train\n",
        "trainPositive = train.filter(F.col(\"label\") == 1)\n",
        "trainNegative = train.filter(F.col(\"label\") == 0)\n",
        "trainNegative=trainNegative.sample(False,0.6,seed=42)\n",
        "train=trainNegative.union(trainPositive)\n",
        "\n",
        "numPositive = train.filter(F.col(\"label\") == 1).count()\n",
        "datasetSize = train.count()\n",
        "numNegative = datasetSize-numPositive\n",
        "print(' Imbalance data after undersampling: \\n ','#positive: ',numPositive,'#negative:',numNegative,'#total',datasetSize,'#ratio',numPositive/datasetSize)\n",
        "\n",
        "\n",
        "\n",
        "\n",
        "\n"
      ]
    },
    {
      "cell_type": "code",
      "execution_count": null,
      "metadata": {
        "collapsed": true,
        "id": "keQHNlu1SmPZ"
      },
      "outputs": [],
      "source": [
        "#numeric transformations\n",
        "\n",
        "def getStandardize(df, numeric_columns):\n",
        "    convs = []\n",
        "    for col in numeric_columns:\n",
        "        std, mean = df.agg(F.stddev(col), F.avg(col)).take(1)[0][:]\n",
        "        df.withColumn(col, (df[col] - mean) / std)\n",
        "\n",
        "    return df\n",
        "\n",
        "\n",
        "#replace missing numeric values with median\n",
        "from pyspark.ml.feature import Imputer\n",
        "\n",
        "imputer = Imputer(inputCols=numeric_columns, outputCols=numeric_columns,strategy ='median')\n",
        "model = imputer.fit(train)\n",
        "\n",
        "train=model.transform(train)\n",
        "test=model.transform(test)\n",
        "\n",
        "#standardize- mean+std (prob not the best choice here since the histogram shows 2 groups)\n",
        "train=getStandardize(train, numeric_columns)\n",
        "test=getStandardize(test, numeric_columns)\n",
        "\n",
        "\n",
        "\n"
      ]
    },
    {
      "cell_type": "code",
      "execution_count": null,
      "metadata": {
        "id": "YoM_IDOXSmPa",
        "outputId": "be0f33ba-df05-4847-d97e-54aafe77663f"
      },
      "outputs": [
        {
          "data": {
            "text/plain": [
              "\" \\ndef removeNonFrequent(train,test, minRequiredSymbolAppearances, categorical_columns, replacementSymbol):\\n    #####decided not to present the code here    \\n    return train,test \\n\\n\\ntrain,test=removeNonFrequent(train,test, 50,categorical_hashing_columns, 'nonFerq')\\n#feature hashing for categorical_columns_manyValues:didn't have time to develop it \\n#(featureHasher avialible only on scala\\\\java for my pyspark version )\\n\""
            ]
          },
          "execution_count": 8,
          "metadata": {},
          "output_type": "execute_result"
        }
      ],
      "source": [
        "#categorical transformations\n",
        "categorical_columns=['feature_7','feature_9','feature_10','feature_11','feature_15','feature_16','feature_18','feature_19','feature_20','feature_23']\n",
        "\n",
        "for col in categorical_columns:\n",
        "    train = train.na.fill({col: 'unknown'})\n",
        "    test=test.na.fill({col: 'unknown'})\n",
        "\n",
        "'''\n",
        "def removeNonFrequent(train,test, minRequiredSymbolAppearances, categorical_columns, replacementSymbol):\n",
        "    #####decided not to present the code here\n",
        "    return train,test\n",
        "\n",
        "\n",
        "train,test=removeNonFrequent(train,test, 50,categorical_hashing_columns, 'nonFerq')\n",
        "#feature hashing for categorical_columns_manyValues:didn't have time to develop it\n",
        "#(featureHasher avialible only on scala\\java for my pyspark version )\n",
        "'''"
      ]
    },
    {
      "cell_type": "code",
      "execution_count": null,
      "metadata": {
        "id": "qoHllvv2SmPa"
      },
      "outputs": [],
      "source": [
        "def constructOneHotEncodingPipeline(categorical_columns, numeric_columns, **kwargs):\n",
        "    indexers = [\n",
        "        StringIndexer(inputCol=c, outputCol=\"{0}_indexed\".format(c)).setHandleInvalid(\"keep\")\n",
        "        for c in categorical_columns\n",
        "    ]\n",
        "\n",
        "    encoders = [OneHotEncoder(dropLast=False, inputCol=indexer.getOutputCol(),\n",
        "                              outputCol=\"{0}_encoded\".format(indexer.getOutputCol()))\n",
        "                for indexer in indexers\n",
        "                ]\n",
        "    #hashers=[FeatureHasher(inputCol=c, outputCol=\"{0}_hashed\".format(c)) for c in categorical_hashing_columns]\n",
        "\n",
        "\n",
        "\n",
        "    assembler = VectorAssembler(inputCols=[encoder.getOutputCol() for encoder in encoders]+numeric_columns, **kwargs)\n",
        "\n",
        "    stages = indexers + encoders + [assembler]\n",
        "    return stages\n",
        "\n",
        "ohe = constructOneHotEncodingPipeline(categorical_columns, numeric_columns, outputCol='final_features')\n",
        "\n",
        "stages = ohe\n",
        "pipelineModelOHE = Pipeline(stages=stages).fit(train)\n",
        "train=pipelineModelOHE.transform(train)\n",
        "test=pipelineModelOHE.transform(test)"
      ]
    },
    {
      "cell_type": "code",
      "execution_count": null,
      "metadata": {
        "collapsed": true,
        "id": "x6UbZkVESmPa"
      },
      "outputs": [],
      "source": [
        "\n",
        "def constructLR(**kwargs):\n",
        "    lrModel = LogisticRegression(**kwargs)\n",
        "    return lrModel\n",
        "\n",
        "def constructGBT(**kwargs):\n",
        "    gbtModel =  GBTClassifier(**kwargs)\n",
        "    return gbtModel\n",
        "\n",
        "def constructRF(**kwargs):\n",
        "    rfModel =  RandomForestClassifier(**kwargs)\n",
        "    return rfModel\n",
        "\n",
        "def constructTree(**kwargs):\n",
        "    treeModel =  DecisionTreeClassifier(**kwargs)\n",
        "    return treeModel"
      ]
    },
    {
      "cell_type": "code",
      "execution_count": null,
      "metadata": {
        "id": "oaO80qmySmPa",
        "outputId": "5fb94322-030b-4fa9-a508-a1836266610a"
      },
      "outputs": [
        {
          "name": "stdout",
          "output_type": "stream",
          "text": [
            "--- # Iterations till convergence:  154\n",
            "--- # Number of features  :  155\n",
            "--- # coefficients  :  {}\n",
            "--- # intercept:  -1.0574493382159404\n"
          ]
        },
        {
          "data": {
            "image/png": "[encoded data removed]",
            "text/plain": [
              "<Figure size 432x288 with 1 Axes>"
            ]
          },
          "metadata": {},
          "output_type": "display_data"
        },
        {
          "data": {
            "image/png": "[encoded data removed]",
            "text/plain": [
              "<Figure size 432x288 with 1 Axes>"
            ]
          },
          "metadata": {},
          "output_type": "display_data"
        },
        {
          "name": "stdout",
          "output_type": "stream",
          "text": [
            "Training set areaUnderROC: 0.6754763960046638\n"
          ]
        },
        {
          "data": {
            "image/png": "[encoded data removed]",
            "text/plain": [
              "<Figure size 432x288 with 1 Axes>"
            ]
          },
          "metadata": {},
          "output_type": "display_data"
        }
      ],
      "source": [
        "\n",
        "\n",
        "#logistic regression\n",
        "lr = constructLR(featuresCol='final_features', labelCol='label',\n",
        "                     maxIter=1000, regParam=0.00001, tol=1e-06,\n",
        "                     standardization=True)\n",
        "stages = [lr]\n",
        "pipelineModelLR = Pipeline(stages=stages).fit(train)\n",
        "\n",
        "\n",
        "#optional plots for LR\n",
        "''''''\n",
        "lablesCts = []\n",
        "for index, stage in enumerate(pipelineModelOHE.stages):\n",
        "    if type(stage) == type(pipelineModelOHE.stages[0]):\n",
        "        for s in stage.labels:\n",
        "            x = str(categorical_columns[index] + '_' + s)\n",
        "            lablesCts.append(x)\n",
        "\n",
        "\n",
        "coeff = list(pipelineModelLR.stages[-1].coefficients)\n",
        "coeffDic = {}\n",
        "for index, value in enumerate(lablesCts):\n",
        "    coeffDic.update({value: coeff[index]})\n",
        "\n",
        "print('--- # Iterations till convergence: ', pipelineModelLR.stages[-1].summary.totalIterations)\n",
        "print('--- # Number of features  : ',pipelineModelLR.stages[-1].coefficientMatrix.numCols)\n",
        "print('--- # coefficients  : ',coeffDic)\n",
        "print('--- # intercept: ',pipelineModelLR.stages[-1].intercept)\n",
        "\n",
        "\n",
        "import matplotlib.pyplot as plt\n",
        "import numpy as np\n",
        "beta = np.sort(pipelineModelLR.stages[-1].coefficients)\n",
        "plt.plot(beta)\n",
        "plt.ylabel('Beta Coefficients')\n",
        "plt.show()\n",
        "\n",
        "trainingSummary = pipelineModelLR.stages[-1].summary\n",
        "roc = trainingSummary.roc.toPandas()\n",
        "plt.plot(roc['FPR'],roc['TPR'])\n",
        "plt.ylabel('False Positive Rate')\n",
        "plt.xlabel('True Positive Rate')\n",
        "plt.title('ROC Curve over Training')\n",
        "plt.show()\n",
        "print('Training set areaUnderROC: ' + str(trainingSummary.areaUnderROC))\n",
        "\n",
        "pr = trainingSummary.pr.toPandas()\n",
        "plt.plot(pr['recall'],pr['precision'])\n",
        "plt.ylabel('Precision')\n",
        "plt.xlabel('Recall')\n",
        "plt.title('Precision-Recall over Training')\n",
        "plt.show()\n",
        "\n",
        "predictionsLR= pipelineModelLR.transform(test)"
      ]
    },
    {
      "cell_type": "code",
      "execution_count": null,
      "metadata": {
        "collapsed": true,
        "id": "I10TqO7bSmPa"
      },
      "outputs": [],
      "source": [
        "#Tree Classifier\n",
        "\n",
        "tree = constructTree(labelCol='label', featuresCol='final_features', maxDepth=7)\n",
        "stages = [tree]\n",
        "pipelineModeltree = Pipeline(stages=stages).fit(train)\n",
        "\n",
        "predictionstree= pipelineModeltree.transform(test)\n",
        "\n"
      ]
    },
    {
      "cell_type": "code",
      "execution_count": null,
      "metadata": {
        "collapsed": true,
        "id": "BnIjNkBRSmPb"
      },
      "outputs": [],
      "source": [
        "#Random Forest\n",
        "\n",
        "rf = constructRF(labelCol='label', featuresCol='final_features', numTrees=3)\n",
        "stages = [rf]\n",
        "pipelineModelRF = Pipeline(stages=stages).fit(train)\n",
        "\n",
        "predictionsRF = pipelineModelRF.transform(test)\n",
        "\n",
        "\n",
        "\n",
        "\n",
        "\n"
      ]
    },
    {
      "cell_type": "code",
      "execution_count": null,
      "metadata": {
        "id": "-WIMNue8SmPb",
        "outputId": "0c2e61a5-38c2-412c-9301-f8dc74db6b70"
      },
      "outputs": [
        {
          "name": "stdout",
          "output_type": "stream",
          "text": [
            "ModelType:\t Decision tree\n",
            "loglossModel:\t 0.4463673653740204\n",
            "aucModel:\t\t 0.6595469417813258\n",
            "auprModel:\t\t 0.30551032985762994\n",
            "\n",
            "\n",
            "ModelType:\t Random Forest\n",
            "loglossModel:\t 0.4505925867101202\n",
            "aucModel:\t\t 0.6623307892050623\n",
            "auprModel:\t\t 0.301131942230702\n",
            "\n",
            "\n",
            "ModelType:\t Logistic Regression\n",
            "loglossModel:\t 0.44559248691910247\n",
            "aucModel:\t\t 0.6717697013338538\n",
            "auprModel:\t\t 0.29082100691075985\n",
            "\n",
            "\n"
          ]
        },
        {
          "data": {
            "text/plain": [
              "(0.44559248691910247, 0.6717697013338538, 0.29082100691075985)"
            ]
          },
          "execution_count": 15,
          "metadata": {},
          "output_type": "execute_result"
        }
      ],
      "source": [
        "#evaluation\n",
        "import pyspark.sql.functions as F\n",
        "from pyspark.sql.functions import when, log\n",
        "from pyspark.ml.evaluation import BinaryClassificationEvaluator\n",
        "\n",
        "\n",
        "def firstElement(col):\n",
        "        return F.udf(lambda v: float(v[1]), FloatType())(col)\n",
        "\n",
        "def AUC(predictions):\n",
        "    evaluator = BinaryClassificationEvaluator().setLabelCol(\"label\").\\\n",
        "        setRawPredictionCol(\"probability\").setMetricName(\"areaUnderROC\")\n",
        "    auc = evaluator.evaluate(predictions)\n",
        "    return auc\n",
        "\n",
        "def logLossCalculator(predictions, probabilityField):\n",
        "    predictions = (predictions.withColumn('logloss', -F.col('label')*F.log(F.col( probabilityField)) - (1.-F.col('label'))*F.log(1.-F.col( probabilityField))))\n",
        "    loglossTotal =predictions.agg(F.mean('logloss').alias('ll')).collect()[0]['ll']\n",
        "    return loglossTotal\n",
        "\n",
        "def AUPR(predictions):\n",
        "    evaluator = BinaryClassificationEvaluator().setLabelCol(\"label\").\\\n",
        "        setRawPredictionCol(\"probability\").setMetricName(\"areaUnderPR\")\n",
        "    aupr = evaluator.evaluate(predictions)\n",
        "    return aupr\n",
        "\n",
        "\n",
        "def loglossAucReview(predictions, predictionProbabilityField,modelType='Example'):\n",
        "        loglossModel = logLossCalculator(predictions, predictionProbabilityField)\n",
        "        aucModel = AUC(predictions)\n",
        "        auprModel=AUPR(predictions)\n",
        "        print('ModelType:\\t\\t',modelType)\n",
        "        print('loglossModel:\\t\\t', loglossModel)\n",
        "        print('aucModel:\\t\\t', aucModel)\n",
        "        print('auprModel:\\t\\t',  auprModel)\n",
        "        print('\\n')\n",
        "\n",
        "        return loglossModel, aucModel, auprModel\n",
        "\n",
        "\n",
        "predictionstree = predictionstree.withColumn('probability1', firstElement('probability') )\n",
        "predictionProbabilityFieldTree='probability1'\n",
        "loglossAucReview(predictionstree, predictionProbabilityFieldTree,modelType='Decision tree')\n",
        "\n",
        "predictionsRF = predictionsRF.withColumn('probability1', firstElement('probability') )\n",
        "predictionProbabilityFieldRF='probability1'\n",
        "loglossAucReview(predictionsRF, predictionProbabilityFieldRF,modelType='Random Forest')\n",
        "\n",
        "\n",
        "predictionsLR = predictionsLR.withColumn('probability1', firstElement('probability') )\n",
        "predictionProbabilityFieldLR='probability1'\n",
        "evaluations=loglossAucReview(predictionsLR, predictionProbabilityFieldLR,modelType='Logistic Regression')\n",
        "\n",
        "\n"
      ]
    },
    {
      "cell_type": "code",
      "execution_count": null,
      "metadata": {
        "collapsed": true,
        "id": "F7o_U7SwSmPb"
      },
      "outputs": [],
      "source": []
    }
  ],
  "metadata": {
    "kernelspec": {
      "display_name": "Python 3",
      "language": "python",
      "name": "python3"
    },
    "language_info": {
      "codemirror_mode": {
        "name": "ipython",
        "version": 3
      },
      "file_extension": ".py",
      "mimetype": "text/x-python",
      "name": "python",
      "nbconvert_exporter": "python",
      "pygments_lexer": "ipython3",
      "version": "3.6.8"
    },
    "colab": {
      "provenance": [],
      "include_colab_link": true
    }
  },
  "nbformat": 4,
  "nbformat_minor": 0
}